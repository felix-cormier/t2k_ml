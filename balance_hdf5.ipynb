{
 "cells": [
  {
   "cell_type": "code",
   "execution_count": null,
   "metadata": {},
   "outputs": [],
   "source": [
    "from balance_hdf5 import sample_lowest_min_energy\n",
    "\n",
    "\n",
    "module_path = '/home/aferreira/clean_git/t2k_ml/'\n",
    "sample_lowest_min_energy(input_path=module_path+'plotting_paths.txt', text_file=True)"
   ]
  }
 ],
 "metadata": {
  "language_info": {
   "name": "python"
  },
  "orig_nbformat": 4
 },
 "nbformat": 4,
 "nbformat_minor": 2
}
