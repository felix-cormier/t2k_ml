{
 "cells": [
  {
   "cell_type": "code",
   "execution_count": 4,
   "metadata": {},
   "outputs": [
    {
     "name": "stdout",
     "output_type": "stream",
     "text": [
      "/home/aferreira/clean_git3/t2k_ml\n"
     ]
    }
   ],
   "source": [
    "import os\n",
    "print(os.getcwd())"
   ]
  },
  {
   "cell_type": "code",
   "execution_count": 5,
   "metadata": {},
   "outputs": [],
   "source": [
    "from infer_dwall import plot_walls \n",
    "import matplotlib.pyplot as plt\n",
    "%matplotlib inline"
   ]
  },
  {
   "cell_type": "code",
   "execution_count": null,
   "metadata": {},
   "outputs": [],
   "source": [
    "input_path = '/fast_scratch/WatChMaL/data/T2K/sep22_emu_2BugFixes_0dwallCut_1M_1/combine_combine.hy'\n",
    "output_path = '/fast_scratch_2/aferreira/t2k/ml/analysis_plots/'"
   ]
  },
  {
   "cell_type": "code",
   "execution_count": 6,
   "metadata": {},
   "outputs": [
    {
     "name": "stdout",
     "output_type": "stream",
     "text": [
      "Getting data from: /fast_scratch/WatChMaL/data/T2K/sep22_emu_2BugFixes_0dwallCut_1M_1/combine_combine.hy\n",
      "[1 1 1 ... 0 0 0]\n"
     ]
    }
   ],
   "source": [
    "wall, towall, num_pmt, label = plot_walls_pmts(text_file=False, input_path=input_path, output_dir=output_path)"
   ]
  },
  {
   "cell_type": "code",
   "execution_count": null,
   "metadata": {},
   "outputs": [],
   "source": [
    "# create two figrues\n",
    "fig1 = plt.figure()\n",
    "ax1 = fig1.gca()\n",
    "\n",
    "fig2 = plt.figure()\n",
    "ax2 = fig2.gca()\n",
    "\n",
    "# make scatter plot of wall and towall vs num_pmts for electrons and muons\n",
    "\n",
    "# maybe sifen them off by label\n",
    "ax1.scatter(wall, num_pmt, alpha=0.1, s=0.01)\n",
    "ax2.scatter(towall, num_pmt, alpha=0.1, s=0.01)\n",
    "\n",
    "y_max = 4000\n",
    "\n",
    "# add labels and stuff to make plots more understandable\n",
    "ax1.vlines(200, ymin=0, ymax=y_max, linestyles='--', label='2 m', color='purple', alpha=0.5)\n",
    "ax1.set_xlabel('Wall [cm]')\n",
    "ax1.set_ylabel('Number of PMTs')\n",
    "ax1.legend(loc='upper right')\n",
    "#ax1.set_xlim(0,1000)\n",
    "\n",
    "ax2.vlines(200, ymin=0, ymax=y_max, linestyles='--', label='2 m', color='purple', alpha=0.5)\n",
    "ax2.set_xlabel('Towall [cm]')\n",
    "ax2.set_ylabel('Number of PMTs')\n",
    "ax2.legend(loc='upper right')\n",
    "ax2.set_xlim(-50,6000) \n",
    "\n",
    "fig1.show()\n",
    "fig2.show()"
   ]
  },
  {
   "cell_type": "markdown",
   "metadata": {},
   "source": [
    "Now we want to select ones with low wall or towall and high number of PMTs."
   ]
  },
  {
   "cell_type": "code",
   "execution_count": null,
   "metadata": {},
   "outputs": [],
   "source": [
    "from make_visualizations import make_visualizations\n",
    "import h5py\n",
    "myfile = h5py.File(input_path,'r')\n",
    "make_visualizations(myfile, output_path)"
   ]
  }
 ],
 "metadata": {
  "kernelspec": {
   "display_name": "Python 3 (ipykernel)",
   "language": "python",
   "name": "python3"
  },
  "language_info": {
   "codemirror_mode": {
    "name": "ipython",
    "version": 3
   },
   "file_extension": ".py",
   "mimetype": "text/x-python",
   "name": "python",
   "nbconvert_exporter": "python",
   "pygments_lexer": "ipython3",
   "version": "3.8.10"
  }
 },
 "nbformat": 4,
 "nbformat_minor": 2
}
