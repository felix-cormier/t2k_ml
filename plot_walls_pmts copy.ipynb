{
 "cells": [
  {
   "cell_type": "code",
   "execution_count": 1,
   "metadata": {},
   "outputs": [
    {
     "name": "stdout",
     "output_type": "stream",
     "text": [
      "/home/aferreira/clean_git3/t2k_ml\n"
     ]
    }
   ],
   "source": [
    "import os\n",
    "print(os.getcwd())"
   ]
  },
  {
   "cell_type": "code",
   "execution_count": 2,
   "metadata": {},
   "outputs": [],
   "source": [
    "from infer_dwall import plot_walls \n",
    "import matplotlib.pyplot as plt\n",
    "%matplotlib inline"
   ]
  },
  {
   "cell_type": "code",
   "execution_count": 3,
   "metadata": {},
   "outputs": [],
   "source": [
    "input_path = '/fast_scratch/WatChMaL/data/T2K/sep22_emu_2BugFixes_0dwallCut_1M_1/combine_combine.hy'\n",
    "output_path = '/fast_scratch_2/aferreira/t2k/ml/analysis_plots/nov6/'"
   ]
  },
  {
   "cell_type": "code",
   "execution_count": 6,
   "metadata": {},
   "outputs": [
    {
     "name": "stdout",
     "output_type": "stream",
     "text": [
      "Getting data from: /fast_scratch/WatChMaL/data/T2K/sep22_emu_2BugFixes_0dwallCut_1M_1/combine_combine.hy\n",
      "[1 1 1 ... 0 0 0]\n"
     ]
    }
   ],
   "source": [
    "wall, towall, num_pmt, label = plot_walls_pmts(text_file=False, input_path=input_path, output_dir=output_path)"
   ]
  },
  {
   "cell_type": "code",
   "execution_count": null,
   "metadata": {},
   "outputs": [],
   "source": [
    "# create two figrues\n",
    "fig1 = plt.figure()\n",
    "ax1 = fig1.gca()\n",
    "\n",
    "fig2 = plt.figure()\n",
    "ax2 = fig2.gca()\n",
    "\n",
    "# make scatter plot of wall and towall vs num_pmts for electrons and muons\n",
    "\n",
    "# maybe sifen them off by label\n",
    "ax1.scatter(wall, num_pmt, alpha=0.1, s=0.01)\n",
    "ax2.scatter(towall, num_pmt, alpha=0.1, s=0.01)\n",
    "\n",
    "y_max = 4000\n",
    "\n",
    "# add labels and stuff to make plots more understandable\n",
    "ax1.vlines(200, ymin=0, ymax=y_max, linestyles='--', label='2 m', color='purple', alpha=0.5)\n",
    "ax1.set_xlabel('Wall [cm]')\n",
    "ax1.set_ylabel('Number of PMTs')\n",
    "ax1.legend(loc='upper right')\n",
    "#ax1.set_xlim(0,1000)\n",
    "\n",
    "ax2.vlines(200, ymin=0, ymax=y_max, linestyles='--', label='2 m', color='purple', alpha=0.5)\n",
    "ax2.set_xlabel('Towall [cm]')\n",
    "ax2.set_ylabel('Number of PMTs')\n",
    "ax2.legend(loc='upper right')\n",
    "ax2.set_xlim(-50,6000) \n",
    "\n",
    "fig1.show()\n",
    "fig2.show()"
   ]
  },
  {
   "cell_type": "markdown",
   "metadata": {},
   "source": [
    "Now we want to select ones with low wall or towall and high number of PMTs."
   ]
  },
  {
   "cell_type": "code",
   "execution_count": 4,
   "metadata": {},
   "outputs": [],
   "source": [
    "from make_visualizations import make_visualizations_lowWall, vis_pmt_charge\n",
    "import h5py\n",
    "myfile = h5py.File(input_path,'r')"
   ]
  },
  {
   "cell_type": "markdown",
   "metadata": {},
   "source": [
    "all of these pop up in the second half only, maybe only from one label then??"
   ]
  },
  {
   "cell_type": "code",
   "execution_count": 5,
   "metadata": {},
   "outputs": [
    {
     "name": "stdout",
     "output_type": "stream",
     "text": [
      "Keys: <KeysViewHDF5 ['angles', 'decay_electron_energy', 'decay_electron_exists', 'decay_electron_time', 'directions', 'directions_electron', 'directions_positron', 'energies', 'energies_electron', 'energies_positron', 'event_hits_index', 'event_ids', 'gamma_start_vtx', 'hit_charge', 'hit_pmt', 'hit_time', 'labels', 'positions', 'primary_charged_range', 'root_files', 'veto', 'veto2']>\n",
      "(1611995,)\n"
     ]
    },
    {
     "ename": "KeyboardInterrupt",
     "evalue": "",
     "output_type": "error",
     "traceback": [
      "\u001b[0;31m---------------------------------------------------------------------------\u001b[0m",
      "\u001b[0;31mKeyboardInterrupt\u001b[0m                         Traceback (most recent call last)",
      "\u001b[1;32mc:\\Users\\ashle\\Documents\\GitHub\\t2k_ml\\plot_walls_pmts copy.ipynb Cell 9\u001b[0m line \u001b[0;36m1\n\u001b[0;32m----> <a href='vscode-notebook-cell:/c%3A/Users/ashle/Documents/GitHub/t2k_ml/plot_walls_pmts%20copy.ipynb#X10sZmlsZQ%3D%3D?line=0'>1</a>\u001b[0m make_visualizations_lowWall(myfile, output_path) \u001b[39m# why does it not hit the inner call?\u001b[39;00m\n",
      "File \u001b[0;32m~/clean_git3/t2k_ml/make_visualizations.py:120\u001b[0m, in \u001b[0;36mmake_visualizations_lowWall\u001b[0;34m(h5_file, output_path)\u001b[0m\n\u001b[1;32m    116\u001b[0m y_stop_pos\u001b[39m=\u001b[39m[]\n\u001b[1;32m    117\u001b[0m z_stop_pos\u001b[39m=\u001b[39m[]\n\u001b[0;32m--> 120\u001b[0m wall_vars \u001b[39m=\u001b[39m \u001b[39mlist\u001b[39;49m(\u001b[39mmap\u001b[39;49m(calculate_wcsim_wall_variables,np\u001b[39m.\u001b[39;49marray(h5_file[\u001b[39m'\u001b[39;49m\u001b[39mpositions\u001b[39;49m\u001b[39m'\u001b[39;49m]), np\u001b[39m.\u001b[39;49marray(h5_file[\u001b[39m'\u001b[39;49m\u001b[39mdirections\u001b[39;49m\u001b[39m'\u001b[39;49m])))\n\u001b[1;32m    121\u001b[0m wall_vars \u001b[39m=\u001b[39m \u001b[39mlist\u001b[39m(\u001b[39mzip\u001b[39m(\u001b[39m*\u001b[39mwall_vars))\n\u001b[1;32m    122\u001b[0m wall \u001b[39m=\u001b[39m wall_vars[\u001b[39m0\u001b[39m]\n",
      "File \u001b[0;32m~/clean_git3/t2k_ml/plot_wcsim.py:30\u001b[0m, in \u001b[0;36mcalculate_wcsim_wall_variables\u001b[0;34m(position, direction)\u001b[0m\n\u001b[1;32m     28\u001b[0m point_1 \u001b[39m=\u001b[39m [position[\u001b[39m0\u001b[39m], position[\u001b[39m1\u001b[39m]]\n\u001b[1;32m     29\u001b[0m point_2 \u001b[39m=\u001b[39m [position[\u001b[39m0\u001b[39m] \u001b[39m+\u001b[39m direction[\u001b[39m0\u001b[39m],position[\u001b[39m1\u001b[39m] \u001b[39m+\u001b[39m direction[\u001b[39m1\u001b[39m]]\n\u001b[0;32m---> 30\u001b[0m coefficients, _1, _2, _3, _4 \u001b[39m=\u001b[39m np\u001b[39m.\u001b[39;49mpolyfit([point_1[\u001b[39m0\u001b[39;49m], point_2[\u001b[39m0\u001b[39;49m]],[point_1[\u001b[39m1\u001b[39;49m], point_2[\u001b[39m1\u001b[39;49m]],\u001b[39m1\u001b[39;49m, full\u001b[39m=\u001b[39;49m\u001b[39mTrue\u001b[39;49;00m)\n\u001b[1;32m     31\u001b[0m for_quadratic \u001b[39m=\u001b[39m [\u001b[39m1\u001b[39m\u001b[39m+\u001b[39mcoefficients[\u001b[39m0\u001b[39m]\u001b[39m*\u001b[39mcoefficients[\u001b[39m0\u001b[39m],\u001b[39m2\u001b[39m\u001b[39m*\u001b[39mcoefficients[\u001b[39m0\u001b[39m]\u001b[39m*\u001b[39mcoefficients[\u001b[39m1\u001b[39m],coefficients[\u001b[39m1\u001b[39m]\u001b[39m*\u001b[39mcoefficients[\u001b[39m1\u001b[39m]\u001b[39m-\u001b[39m(\u001b[39m1690\u001b[39m\u001b[39m*\u001b[39m\u001b[39m1690\u001b[39m)]\n\u001b[1;32m     32\u001b[0m quad_sols_x \u001b[39m=\u001b[39m np\u001b[39m.\u001b[39mroots(for_quadratic)\n",
      "File \u001b[0;32m<__array_function__ internals>:180\u001b[0m, in \u001b[0;36mpolyfit\u001b[0;34m(*args, **kwargs)\u001b[0m\n",
      "File \u001b[0;32m/usr/local/lib/python3.8/dist-packages/numpy/lib/polynomial.py:668\u001b[0m, in \u001b[0;36mpolyfit\u001b[0;34m(x, y, deg, rcond, full, w, cov)\u001b[0m\n\u001b[1;32m    666\u001b[0m scale \u001b[39m=\u001b[39m NX\u001b[39m.\u001b[39msqrt((lhs\u001b[39m*\u001b[39mlhs)\u001b[39m.\u001b[39msum(axis\u001b[39m=\u001b[39m\u001b[39m0\u001b[39m))\n\u001b[1;32m    667\u001b[0m lhs \u001b[39m/\u001b[39m\u001b[39m=\u001b[39m scale\n\u001b[0;32m--> 668\u001b[0m c, resids, rank, s \u001b[39m=\u001b[39m lstsq(lhs, rhs, rcond)\n\u001b[1;32m    669\u001b[0m c \u001b[39m=\u001b[39m (c\u001b[39m.\u001b[39mT\u001b[39m/\u001b[39mscale)\u001b[39m.\u001b[39mT  \u001b[39m# broadcast scale coefficients\u001b[39;00m\n\u001b[1;32m    671\u001b[0m \u001b[39m# warn on rank reduction, which indicates an ill conditioned matrix\u001b[39;00m\n",
      "File \u001b[0;32m<__array_function__ internals>:180\u001b[0m, in \u001b[0;36mlstsq\u001b[0;34m(*args, **kwargs)\u001b[0m\n",
      "File \u001b[0;32m/usr/local/lib/python3.8/dist-packages/numpy/linalg/linalg.py:2302\u001b[0m, in \u001b[0;36mlstsq\u001b[0;34m(a, b, rcond)\u001b[0m\n\u001b[1;32m   2300\u001b[0m \u001b[39m# remove the axis we added\u001b[39;00m\n\u001b[1;32m   2301\u001b[0m \u001b[39mif\u001b[39;00m is_1d:\n\u001b[0;32m-> 2302\u001b[0m     x \u001b[39m=\u001b[39m x\u001b[39m.\u001b[39;49msqueeze(axis\u001b[39m=\u001b[39m\u001b[39m-\u001b[39m\u001b[39m1\u001b[39m)\n\u001b[1;32m   2303\u001b[0m     \u001b[39m# we probably should squeeze resids too, but we can't\u001b[39;00m\n\u001b[1;32m   2304\u001b[0m     \u001b[39m# without breaking compatibility.\u001b[39;00m\n\u001b[1;32m   2305\u001b[0m \n\u001b[1;32m   2306\u001b[0m \u001b[39m# as documented\u001b[39;00m\n\u001b[1;32m   2307\u001b[0m \u001b[39mif\u001b[39;00m rank \u001b[39m!=\u001b[39m n \u001b[39mor\u001b[39;00m m \u001b[39m<\u001b[39m\u001b[39m=\u001b[39m n:\n",
      "\u001b[0;31mKeyboardInterrupt\u001b[0m: "
     ]
    }
   ],
   "source": [
    "make_visualizations_lowWall(myfile, output_path) # why does it not hit the inner call?"
   ]
  }
 ],
 "metadata": {
  "kernelspec": {
   "display_name": "Python 3 (ipykernel)",
   "language": "python",
   "name": "python3"
  },
  "language_info": {
   "codemirror_mode": {
    "name": "ipython",
    "version": 3
   },
   "file_extension": ".py",
   "mimetype": "text/x-python",
   "name": "python",
   "nbconvert_exporter": "python",
   "pygments_lexer": "ipython3",
   "version": "3.8.10"
  }
 },
 "nbformat": 4,
 "nbformat_minor": 2
}
