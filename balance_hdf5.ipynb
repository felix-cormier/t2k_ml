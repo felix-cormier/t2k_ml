{
 "cells": [
  {
   "cell_type": "code",
   "execution_count": 1,
   "metadata": {},
   "outputs": [
    {
     "name": "stdout",
     "output_type": "stream",
     "text": [
      "Getting files from: /home/aferreira/clean_git/t2k_ml/plotting_paths.txt\n",
      "New path: /fast_scratch/WatChMaL/data/T2K/sep20_electrons_2BugFixes_1M_1/\n",
      "New path: /fast_scratch/WatChMaL/data/T2K/sep20_muons_2BugFixes_1M_1/\n"
     ]
    }
   ],
   "source": [
    "from balance_hdf5 import sample_lowest_min_energy\n",
    "import matplotlib.pyplot as plt\n",
    "\n",
    "module_path = '/home/aferreira/clean_git/t2k_ml/'\n",
    "truth_visible_energy, label = sample_lowest_min_energy(input_path=module_path+'plotting_paths.txt', text_file=True)"
   ]
  },
  {
   "cell_type": "code",
   "execution_count": 6,
   "metadata": {},
   "outputs": [
    {
     "name": "stdout",
     "output_type": "stream",
     "text": [
      "<class 'list'>\n",
      "2\n"
     ]
    }
   ],
   "source": [
    "print(type(truth_visible_energy))\n",
    "print(len(truth_visible_energy)) # lenght of just two? two lists for electrons and muons, need to look at generics code"
   ]
  },
  {
   "cell_type": "code",
   "execution_count": 3,
   "metadata": {},
   "outputs": [],
   "source": [
    "plt.hist(truth_visible_energy, label=label, bins=50)\n",
    "plt.show() # nothing is showing? even if bad data should show something?"
   ]
  },
  {
   "cell_type": "markdown",
   "metadata": {},
   "source": [
    "why two repeats? and no plot?"
   ]
  }
 ],
 "metadata": {
  "kernelspec": {
   "display_name": "Python 3 (ipykernel)",
   "language": "python",
   "name": "python3"
  },
  "language_info": {
   "codemirror_mode": {
    "name": "ipython",
    "version": 3
   },
   "file_extension": ".py",
   "mimetype": "text/x-python",
   "name": "python",
   "nbconvert_exporter": "python",
   "pygments_lexer": "ipython3",
   "version": "3.8.10"
  },
  "orig_nbformat": 4
 },
 "nbformat": 4,
 "nbformat_minor": 2
}
