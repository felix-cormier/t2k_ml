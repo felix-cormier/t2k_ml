{
 "cells": [
  {
   "cell_type": "code",
   "execution_count": 1,
   "metadata": {},
   "outputs": [
    {
     "name": "stdout",
     "output_type": "stream",
     "text": [
      "/home/aferreira/clean_git3/t2k_ml\n"
     ]
    }
   ],
   "source": [
    "import os\n",
    "print(os.getcwd())"
   ]
  },
  {
   "cell_type": "code",
   "execution_count": 2,
   "metadata": {},
   "outputs": [],
   "source": [
    "from infer_dwall import plot_walls \n",
    "import matplotlib.pyplot as plt\n",
    "%matplotlib inline"
   ]
  },
  {
   "cell_type": "code",
   "execution_count": 3,
   "metadata": {},
   "outputs": [],
   "source": [
    "input_path = '/fast_scratch/WatChMaL/data/T2K/sep22_emu_2BugFixes_0dwallCut_1M_1/combine_combine.hy'\n",
    "output_path = '/fast_scratch_2/aferreira/t2k/ml/analysis_plots/nov6_1'"
   ]
  },
  {
   "cell_type": "code",
   "execution_count": 6,
   "metadata": {},
   "outputs": [
    {
     "name": "stdout",
     "output_type": "stream",
     "text": [
      "Getting data from: /fast_scratch/WatChMaL/data/T2K/sep22_emu_2BugFixes_0dwallCut_1M_1/combine_combine.hy\n",
      "[1 1 1 ... 0 0 0]\n"
     ]
    }
   ],
   "source": [
    "wall, towall, num_pmt, label = plot_walls_pmts(text_file=False, input_path=input_path, output_dir=output_path)"
   ]
  },
  {
   "cell_type": "code",
   "execution_count": null,
   "metadata": {},
   "outputs": [],
   "source": [
    "# create two figrues\n",
    "fig1 = plt.figure()\n",
    "ax1 = fig1.gca()\n",
    "\n",
    "fig2 = plt.figure()\n",
    "ax2 = fig2.gca()\n",
    "\n",
    "# make scatter plot of wall and towall vs num_pmts for electrons and muons\n",
    "\n",
    "# maybe sifen them off by label\n",
    "ax1.scatter(wall, num_pmt, alpha=0.1, s=0.01)\n",
    "ax2.scatter(towall, num_pmt, alpha=0.1, s=0.01)\n",
    "\n",
    "y_max = 4000\n",
    "\n",
    "# add labels and stuff to make plots more understandable\n",
    "ax1.vlines(200, ymin=0, ymax=y_max, linestyles='--', label='2 m', color='purple', alpha=0.5)\n",
    "ax1.set_xlabel('Wall [cm]')\n",
    "ax1.set_ylabel('Number of PMTs')\n",
    "ax1.legend(loc='upper right')\n",
    "#ax1.set_xlim(0,1000)\n",
    "\n",
    "ax2.vlines(200, ymin=0, ymax=y_max, linestyles='--', label='2 m', color='purple', alpha=0.5)\n",
    "ax2.set_xlabel('Towall [cm]')\n",
    "ax2.set_ylabel('Number of PMTs')\n",
    "ax2.legend(loc='upper right')\n",
    "ax2.set_xlim(-50,6000) \n",
    "\n",
    "fig1.show()\n",
    "fig2.show()"
   ]
  },
  {
   "cell_type": "markdown",
   "metadata": {},
   "source": [
    "Now we want to select ones with low wall or towall and high number of PMTs."
   ]
  },
  {
   "cell_type": "code",
   "execution_count": 4,
   "metadata": {},
   "outputs": [],
   "source": [
    "from make_visualizations import make_visualizations_lowWall\n",
    "import h5py\n",
    "myfile = h5py.File(input_path,'r')"
   ]
  },
  {
   "cell_type": "code",
   "execution_count": 5,
   "metadata": {},
   "outputs": [
    {
     "name": "stdout",
     "output_type": "stream",
     "text": [
      "Keys: <KeysViewHDF5 ['angles', 'decay_electron_energy', 'decay_electron_exists', 'decay_electron_time', 'directions', 'directions_electron', 'directions_positron', 'energies', 'energies_electron', 'energies_positron', 'event_hits_index', 'event_ids', 'gamma_start_vtx', 'hit_charge', 'hit_pmt', 'hit_time', 'labels', 'positions', 'primary_charged_range', 'root_files', 'veto', 'veto2']>\n",
      "(1611995,)\n",
      "Unexpected exception formatting exception. Falling back to standard exception\n"
     ]
    },
    {
     "name": "stderr",
     "output_type": "stream",
     "text": [
      "Traceback (most recent call last):\n",
      "  File \"/usr/local/lib/python3.8/dist-packages/IPython/core/interactiveshell.py\", line 3433, in run_code\n",
      "    exec(code_obj, self.user_global_ns, self.user_ns)\n",
      "  File \"/tmp/ipykernel_27153/2334816675.py\", line 1, in <module>\n",
      "    make_visualizations_lowWall(myfile, output_path)\n",
      "  File \"/home/aferreira/clean_git3/t2k_ml/make_visualizations.py\", line 119, in make_visualizations_lowWall\n",
      "  File \"/home/aferreira/clean_git3/t2k_ml/plot_wcsim.py\", line 60, in calculate_wcsim_wall_variables\n",
      "    towall =  math.sqrt( (position[0] - quad_sols_x[right_index])**2 + (position[1] - quad_sols_y[right_index])**2 + (position[2]-new_z)**2)\n",
      "KeyboardInterrupt\n",
      "\n",
      "During handling of the above exception, another exception occurred:\n",
      "\n",
      "Traceback (most recent call last):\n",
      "  File \"/usr/local/lib/python3.8/dist-packages/IPython/core/interactiveshell.py\", line 2052, in showtraceback\n",
      "    stb = self.InteractiveTB.structured_traceback(\n",
      "  File \"/usr/local/lib/python3.8/dist-packages/IPython/core/ultratb.py\", line 1118, in structured_traceback\n",
      "    return FormattedTB.structured_traceback(\n",
      "  File \"/usr/local/lib/python3.8/dist-packages/IPython/core/ultratb.py\", line 1012, in structured_traceback\n",
      "    return VerboseTB.structured_traceback(\n",
      "  File \"/usr/local/lib/python3.8/dist-packages/IPython/core/ultratb.py\", line 865, in structured_traceback\n",
      "    formatted_exception = self.format_exception_as_a_whole(etype, evalue, etb, number_of_lines_of_context,\n",
      "  File \"/usr/local/lib/python3.8/dist-packages/IPython/core/ultratb.py\", line 818, in format_exception_as_a_whole\n",
      "    frames.append(self.format_record(r))\n",
      "  File \"/usr/local/lib/python3.8/dist-packages/IPython/core/ultratb.py\", line 736, in format_record\n",
      "    result += ''.join(_format_traceback_lines(frame_info.lines, Colors, self.has_colors, lvals))\n",
      "  File \"/usr/local/lib/python3.8/dist-packages/stack_data/utils.py\", line 144, in cached_property_wrapper\n",
      "    value = obj.__dict__[self.func.__name__] = self.func(obj)\n",
      "  File \"/usr/local/lib/python3.8/dist-packages/stack_data/core.py\", line 734, in lines\n",
      "    pieces = self.included_pieces\n",
      "  File \"/usr/local/lib/python3.8/dist-packages/stack_data/utils.py\", line 144, in cached_property_wrapper\n",
      "    value = obj.__dict__[self.func.__name__] = self.func(obj)\n",
      "  File \"/usr/local/lib/python3.8/dist-packages/stack_data/core.py\", line 681, in included_pieces\n",
      "    pos = scope_pieces.index(self.executing_piece)\n",
      "  File \"/usr/local/lib/python3.8/dist-packages/stack_data/utils.py\", line 144, in cached_property_wrapper\n",
      "    value = obj.__dict__[self.func.__name__] = self.func(obj)\n",
      "  File \"/usr/local/lib/python3.8/dist-packages/stack_data/core.py\", line 660, in executing_piece\n",
      "    return only(\n",
      "  File \"/usr/local/lib/python3.8/dist-packages/executing/executing.py\", line 190, in only\n",
      "    raise NotOneValueFound('Expected one value, found 0')\n",
      "executing.executing.NotOneValueFound: Expected one value, found 0\n"
     ]
    }
   ],
   "source": [
    "make_visualizations_lowWall(myfile, output_path) "
   ]
  }
 ],
 "metadata": {
  "kernelspec": {
   "display_name": "Python 3 (ipykernel)",
   "language": "python",
   "name": "python3"
  },
  "language_info": {
   "codemirror_mode": {
    "name": "ipython",
    "version": 3
   },
   "file_extension": ".py",
   "mimetype": "text/x-python",
   "name": "python",
   "nbconvert_exporter": "python",
   "pygments_lexer": "ipython3",
   "version": "3.8.10"
  }
 },
 "nbformat": 4,
 "nbformat_minor": 2
}
